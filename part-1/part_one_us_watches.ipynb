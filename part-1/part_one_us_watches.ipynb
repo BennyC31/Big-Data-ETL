{
 "cells": [
  {
   "cell_type": "code",
   "execution_count": 2,
   "metadata": {
    "colab": {
     "base_uri": "https://localhost:8080/"
    },
    "executionInfo": {
     "elapsed": 25816,
     "status": "ok",
     "timestamp": 1678202637681,
     "user": {
      "displayName": "Ben Calderaio",
      "userId": "05610087940593491756"
     },
     "user_tz": 300
    },
    "id": "-8eFW_wl1n39",
    "outputId": "f1c9c0d9-9239-4230-a139-a6c97070fb42"
   },
   "outputs": [
    {
     "name": "stdout",
     "output_type": "stream",
     "text": [
      "\r",
      "0% [Working]\r",
      "            \r",
      "Hit:1 https://cloud.r-project.org/bin/linux/ubuntu focal-cran40/ InRelease\n",
      "\r",
      "0% [Waiting for headers] [Waiting for headers] [Waiting for headers] [Connectin\r",
      "                                                                               \r",
      "Ign:2 https://developer.download.nvidia.com/compute/machine-learning/repos/ubuntu2004/x86_64  InRelease\n",
      "\r",
      "0% [Waiting for headers] [Waiting for headers] [Waiting for headers] [Connectin\r",
      "                                                                               \r",
      "Hit:3 http://security.ubuntu.com/ubuntu focal-security InRelease\n",
      "\r",
      "0% [Waiting for headers] [Waiting for headers] [Connecting to ppa.launchpad.net\r",
      "                                                                               \r",
      "Hit:4 https://developer.download.nvidia.com/compute/cuda/repos/ubuntu2004/x86_64  InRelease\n",
      "Hit:5 http://archive.ubuntu.com/ubuntu focal InRelease\n",
      "Hit:6 https://developer.download.nvidia.com/compute/machine-learning/repos/ubuntu2004/x86_64  Release\n",
      "Hit:7 http://ppa.launchpad.net/c2d4u.team/c2d4u4.0+/ubuntu focal InRelease\n",
      "Hit:8 http://archive.ubuntu.com/ubuntu focal-updates InRelease\n",
      "Hit:9 http://archive.ubuntu.com/ubuntu focal-backports InRelease\n",
      "Hit:10 http://ppa.launchpad.net/cran/libgit2/ubuntu focal InRelease\n",
      "Hit:11 http://ppa.launchpad.net/deadsnakes/ppa/ubuntu focal InRelease\n",
      "Hit:13 http://ppa.launchpad.net/graphics-drivers/ppa/ubuntu focal InRelease\n",
      "Hit:14 http://ppa.launchpad.net/ubuntugis/ppa/ubuntu focal InRelease\n",
      "Reading package lists... Done\n"
     ]
    }
   ],
   "source": [
    "# Activate Spark in our Colab notebook.\n",
    "import os\n",
    "# Find the latest version of spark 3.2  from http://www.apache.org/dist/spark/ and enter as the spark version\n",
    "# For example:\n",
    "# spark_version = 'spark-3.2.2'\n",
    "spark_version = 'spark-3.2.3'\n",
    "os.environ['SPARK_VERSION']=spark_version\n",
    "\n",
    "# Install Spark and Java\n",
    "!apt-get update\n",
    "!apt-get install openjdk-11-jdk-headless -qq > /dev/null\n",
    "!wget -q http://www.apache.org/dist/spark/$SPARK_VERSION/$SPARK_VERSION-bin-hadoop2.7.tgz\n",
    "!tar xf $SPARK_VERSION-bin-hadoop2.7.tgz\n",
    "!pip install -q findspark\n",
    "\n",
    "# Set Environment Variables\n",
    "import os\n",
    "os.environ[\"JAVA_HOME\"] = \"/usr/lib/jvm/java-11-openjdk-amd64\"\n",
    "os.environ[\"SPARK_HOME\"] = f\"/content/{spark_version}-bin-hadoop2.7\"\n",
    "\n",
    "# Start a SparkSession\n",
    "import findspark\n",
    "findspark.init()"
   ]
  },
  {
   "cell_type": "code",
   "execution_count": 3,
   "metadata": {
    "colab": {
     "base_uri": "https://localhost:8080/"
    },
    "executionInfo": {
     "elapsed": 590,
     "status": "ok",
     "timestamp": 1678202652671,
     "user": {
      "displayName": "Ben Calderaio",
      "userId": "05610087940593491756"
     },
     "user_tz": 300
    },
    "id": "BzCrgs0Z1rnw",
    "outputId": "144e5274-be58-41b4-fc19-619bed96522b"
   },
   "outputs": [
    {
     "name": "stdout",
     "output_type": "stream",
     "text": [
      "--2023-03-07 15:24:12--  https://jdbc.postgresql.org/download/postgresql-42.2.9.jar\n",
      "Resolving jdbc.postgresql.org (jdbc.postgresql.org)... 72.32.157.228, 2001:4800:3e1:1::228\n",
      "Connecting to jdbc.postgresql.org (jdbc.postgresql.org)|72.32.157.228|:443... connected.\n",
      "HTTP request sent, awaiting response... 200 OK\n",
      "Length: 914037 (893K) [application/java-archive]\n",
      "Saving to: ‘postgresql-42.2.9.jar’\n",
      "\n",
      "postgresql-42.2.9.j 100%[===================>] 892.61K  5.77MB/s    in 0.2s    \n",
      "\n",
      "2023-03-07 15:24:12 (5.77 MB/s) - ‘postgresql-42.2.9.jar’ saved [914037/914037]\n",
      "\n"
     ]
    }
   ],
   "source": [
    "# Get postgresql package\n",
    "!wget https://jdbc.postgresql.org/download/postgresql-42.2.9.jar"
   ]
  },
  {
   "cell_type": "code",
   "execution_count": 4,
   "metadata": {
    "executionInfo": {
     "elapsed": 8372,
     "status": "ok",
     "timestamp": 1678202664494,
     "user": {
      "displayName": "Ben Calderaio",
      "userId": "05610087940593491756"
     },
     "user_tz": 300
    },
    "id": "0DuBth0V2PR8"
   },
   "outputs": [],
   "source": [
    "# Import Spark and create a SparkSession\n",
    "from pyspark.sql import SparkSession\n",
    "spark = SparkSession.builder.appName(\"BigData-HW-1\").config(\"spark.driver.extraClassPath\",\"/content/postgresql-42.2.9.jar\").getOrCreate()"
   ]
  },
  {
   "cell_type": "markdown",
   "metadata": {
    "id": "D3W2XJVi2CU-"
   },
   "source": [
    "# Extract the Amazon Data into Spark DataFrame"
   ]
  },
  {
   "cell_type": "code",
   "execution_count": 6,
   "metadata": {
    "colab": {
     "base_uri": "https://localhost:8080/"
    },
    "executionInfo": {
     "elapsed": 6674,
     "status": "ok",
     "timestamp": 1678202796977,
     "user": {
      "displayName": "Ben Calderaio",
      "userId": "05610087940593491756"
     },
     "user_tz": 300
    },
    "id": "Na_stw7b1wfU",
    "outputId": "25c20f75-5f03-4647-88dc-44b3a8d1b6f6"
   },
   "outputs": [
    {
     "name": "stdout",
     "output_type": "stream",
     "text": [
      "+-----------+-----------+--------------+----------+--------------+--------------------+----------------+-----------+-------------+-----------+----+-----------------+--------------------+--------------------+-----------+\n",
      "|marketplace|customer_id|     review_id|product_id|product_parent|       product_title|product_category|star_rating|helpful_votes|total_votes|vine|verified_purchase|     review_headline|         review_body|review_date|\n",
      "+-----------+-----------+--------------+----------+--------------+--------------------+----------------+-----------+-------------+-----------+----+-----------------+--------------------+--------------------+-----------+\n",
      "|         US|    3653882|R3O9SGZBVQBV76|B00FALQ1ZC|     937001370|Invicta Women's 1...|         Watches|          5|            0|          0|   N|                Y|          Five Stars|Absolutely love t...| 2015-08-31|\n",
      "|         US|   14661224| RKH8BNC3L5DLF|B00D3RGO20|     484010722|Kenneth Cole New ...|         Watches|          5|            0|          0|   N|                Y|I love thiswatch ...|I love this watch...| 2015-08-31|\n",
      "|         US|   27324930|R2HLE8WKZSU3NL|B00DKYC7TK|     361166390|Ritche 22mm Black...|         Watches|          2|            1|          1|   N|                Y|           Two Stars|           Scratches| 2015-08-31|\n",
      "|         US|    7211452|R31U3UH5AZ42LL|B000EQS1JW|     958035625|Citizen Men's BM8...|         Watches|          5|            0|          0|   N|                Y|          Five Stars|It works well on ...| 2015-08-31|\n",
      "|         US|   12733322|R2SV659OUJ945Y|B00A6GFD7S|     765328221|Orient ER27009B M...|         Watches|          4|            0|          0|   N|                Y|Beautiful face, b...|Beautiful watch f...| 2015-08-31|\n",
      "|         US|    6576411| RA51CP8TR5A2L|B00EYSOSE8|     230493695|Casio Men's GW-94...|         Watches|          5|            0|          0|   N|                Y|       No complaints|i love this watch...| 2015-08-31|\n",
      "|         US|   11811565| RB2Q7DLDN6TH6|B00WM0QA3M|     549298279|Fossil Women's ES...|         Watches|          5|            1|          1|   N|                Y|          Five Stars|for my wife and s...| 2015-08-31|\n",
      "|         US|   49401598|R2RHFJV0UYBK3Y|B00A4EYBR0|     844009113|INFANTRY Mens Nig...|         Watches|          1|            1|          5|   N|                N|I was about to bu...|I was about to bu...| 2015-08-31|\n",
      "|         US|   45925069|R2Z6JOQ94LFHEP|B00MAMPGGE|     263720892|G-Shock Men's Gre...|         Watches|          5|            1|          2|   N|                Y|      Perfect watch!|Watch is perfect....| 2015-08-31|\n",
      "|         US|   44751341| RX27XIIWY5JPB|B004LBPB7Q|     124278407|Heiden Quad Watch...|         Watches|          4|            0|          0|   N|                Y|Great quality and...|Great quality and...| 2015-08-31|\n",
      "|         US|    9962330|R15C7QEZT0LGZN|B00KGTVGKS|      28017857|Fossil Women's ES...|         Watches|          4|            2|          2|   N|                Y|           Satisfied|The watch was pre...| 2015-08-31|\n",
      "|         US|   16097204|R361XSS37V0NCZ|B0039UT5OU|     685450910|Casio General Men...|         Watches|          1|            0|          0|   N|                N|I do not think th...|I bought this wat...| 2015-08-31|\n",
      "|         US|   51330346| ROTNLALUAJAUB|B00MPF0XJQ|     767769082|2Tone Gold Silver...|         Watches|          3|            0|          0|   N|                Y|         Three Stars|It is a cheap wat...| 2015-08-31|\n",
      "|         US|    4201739|R2DYX7QU6BGOHR|B003P1OHHS|     648595227|Bulova Men's 98B1...|         Watches|          5|            0|          0|   N|                Y|          Five Stars|Heavier than i th...| 2015-08-31|\n",
      "|         US|   26339765| RWASY7FKI7QOT|B00R70YEOE|     457338020|Casio - G-Shock -...|         Watches|          5|            2|          3|   N|                Y|  Worth it - love it|Had it for severa...| 2015-08-31|\n",
      "|         US|    2692576|R2KKYZIN3CCL21|B000FVE3BG|     824370661|Invicta Men's 332...|         Watches|          5|            0|          0|   N|                Y|This is when diff...|This one is diffe...| 2015-08-31|\n",
      "|         US|   44713366|R22H4FGVD5O52O|B008X6JB12|     814431355|Seiko Women's SUT...|         Watches|          4|            1|          1|   N|                Y|Thewatch is attra...|The watch is attr...| 2015-08-31|\n",
      "|         US|   32778769|R11UACZERCM4ZY|B0040UOFPW|     187700878|Anne Klein Women'...|         Watches|          5|            0|          0|   N|                Y|          Five Stars|      said my wife..| 2015-08-31|\n",
      "|         US|   27258523|R1AT8NQ38UQOL6|B00UR2R5UY|     594315262|Guess U13630G1 Me...|         Watches|          5|            0|          0|   N|                Y|          Five Stars|Nice watch, on ti...| 2015-08-31|\n",
      "|         US|   42646538|R2NCZRQGIF1Q75|B00HFF57L0|     520810507|Nixon Men's Geo V...|         Watches|          4|            0|          0|   N|                Y|        Very stylish|Looks great and l...| 2015-08-31|\n",
      "+-----------+-----------+--------------+----------+--------------+--------------------+----------------+-----------+-------------+-----------+----+-----------------+--------------------+--------------------+-----------+\n",
      "only showing top 20 rows\n",
      "\n"
     ]
    }
   ],
   "source": [
    "# Read in the data from an S3 Bucket\n",
    "from pyspark import SparkFiles\n",
    "url=\"https://my-pg-db.s3.amazonaws.com/amazon_reviews_us_Watches_v1_00.tsv\" \n",
    "#url = \"https://2u-data-curriculum-team.s3.amazonaws.com/dataviz-classroom/v1.1/22-big-data/day_3/user_data.csv\"\n",
    "spark.sparkContext.addFile(url)\n",
    "watches_data_df = spark.read.csv(SparkFiles.get(\"amazon_reviews_us_Watches_v1_00.tsv\"), sep=\"\\t\", header=True, inferSchema=True)\n",
    "\n",
    "# Show DataFrame\n",
    "watches_data_df.show()"
   ]
  },
  {
   "cell_type": "code",
   "execution_count": 9,
   "metadata": {
    "colab": {
     "base_uri": "https://localhost:8080/"
    },
    "executionInfo": {
     "elapsed": 2636,
     "status": "ok",
     "timestamp": 1678203109228,
     "user": {
      "displayName": "Ben Calderaio",
      "userId": "05610087940593491756"
     },
     "user_tz": 300
    },
    "id": "Cayz-3Q52IM3",
    "outputId": "b3b499db-489b-4c31-a904-c2061888be6a"
   },
   "outputs": [
    {
     "data": {
      "text/plain": [
       "960872"
      ]
     },
     "execution_count": 9,
     "metadata": {},
     "output_type": "execute_result"
    }
   ],
   "source": [
    "# Get the number of rows in the DataFrame.\n",
    "watches_data_df.count()"
   ]
  },
  {
   "cell_type": "markdown",
   "metadata": {
    "id": "C9U0rkGZ2eu7"
   },
   "source": [
    "# Transform the Data"
   ]
  },
  {
   "cell_type": "markdown",
   "metadata": {
    "id": "dUoftWoKtM_c"
   },
   "source": [
    "## Create the \"review_id_table\"."
   ]
  },
  {
   "cell_type": "code",
   "execution_count": 10,
   "metadata": {
    "colab": {
     "base_uri": "https://localhost:8080/"
    },
    "executionInfo": {
     "elapsed": 436,
     "status": "ok",
     "timestamp": 1678203338837,
     "user": {
      "displayName": "Ben Calderaio",
      "userId": "05610087940593491756"
     },
     "user_tz": 300
    },
    "id": "2tMYkSIk2d-m",
    "outputId": "4f4eb93c-2ece-46b0-9cc1-631f52feb9c0"
   },
   "outputs": [
    {
     "name": "stdout",
     "output_type": "stream",
     "text": [
      "+--------------+-----------+--------------+-----------+\n",
      "|     review_id|customer_id|product_parent|review_date|\n",
      "+--------------+-----------+--------------+-----------+\n",
      "|R3O9SGZBVQBV76|    3653882|     937001370| 2015-08-31|\n",
      "| RKH8BNC3L5DLF|   14661224|     484010722| 2015-08-31|\n",
      "|R2HLE8WKZSU3NL|   27324930|     361166390| 2015-08-31|\n",
      "|R31U3UH5AZ42LL|    7211452|     958035625| 2015-08-31|\n",
      "|R2SV659OUJ945Y|   12733322|     765328221| 2015-08-31|\n",
      "| RA51CP8TR5A2L|    6576411|     230493695| 2015-08-31|\n",
      "| RB2Q7DLDN6TH6|   11811565|     549298279| 2015-08-31|\n",
      "|R2RHFJV0UYBK3Y|   49401598|     844009113| 2015-08-31|\n",
      "|R2Z6JOQ94LFHEP|   45925069|     263720892| 2015-08-31|\n",
      "| RX27XIIWY5JPB|   44751341|     124278407| 2015-08-31|\n",
      "|R15C7QEZT0LGZN|    9962330|      28017857| 2015-08-31|\n",
      "|R361XSS37V0NCZ|   16097204|     685450910| 2015-08-31|\n",
      "| ROTNLALUAJAUB|   51330346|     767769082| 2015-08-31|\n",
      "|R2DYX7QU6BGOHR|    4201739|     648595227| 2015-08-31|\n",
      "| RWASY7FKI7QOT|   26339765|     457338020| 2015-08-31|\n",
      "|R2KKYZIN3CCL21|    2692576|     824370661| 2015-08-31|\n",
      "|R22H4FGVD5O52O|   44713366|     814431355| 2015-08-31|\n",
      "|R11UACZERCM4ZY|   32778769|     187700878| 2015-08-31|\n",
      "|R1AT8NQ38UQOL6|   27258523|     594315262| 2015-08-31|\n",
      "|R2NCZRQGIF1Q75|   42646538|     520810507| 2015-08-31|\n",
      "+--------------+-----------+--------------+-----------+\n",
      "only showing top 20 rows\n",
      "\n"
     ]
    }
   ],
   "source": [
    "from pyspark.sql.functions import to_date\n",
    "# Create the \"review_id_df\" DataFrame with the appropriate columns and data types.\n",
    "review_id_df = watches_data_df.select([\"review_id\", \"customer_id\", \"product_parent\", \"review_date\"])\n",
    "review_id_df.show()"
   ]
  },
  {
   "cell_type": "markdown",
   "metadata": {
    "id": "aAVCFjXhtXO8"
   },
   "source": [
    "## Create the \"products\" Table"
   ]
  },
  {
   "cell_type": "code",
   "execution_count": 11,
   "metadata": {
    "colab": {
     "base_uri": "https://localhost:8080/"
    },
    "executionInfo": {
     "elapsed": 865,
     "status": "ok",
     "timestamp": 1678203397081,
     "user": {
      "displayName": "Ben Calderaio",
      "userId": "05610087940593491756"
     },
     "user_tz": 300
    },
    "id": "g9gTNhT62je4",
    "outputId": "d546940f-94ef-41df-8d2a-29451ab3dc24"
   },
   "outputs": [
    {
     "name": "stdout",
     "output_type": "stream",
     "text": [
      "+----------+--------------------+\n",
      "|product_id|       product_title|\n",
      "+----------+--------------------+\n",
      "|B00FALQ1ZC|Invicta Women's 1...|\n",
      "|B00D3RGO20|Kenneth Cole New ...|\n",
      "|B00DKYC7TK|Ritche 22mm Black...|\n",
      "|B000EQS1JW|Citizen Men's BM8...|\n",
      "|B00A6GFD7S|Orient ER27009B M...|\n",
      "|B00EYSOSE8|Casio Men's GW-94...|\n",
      "|B00WM0QA3M|Fossil Women's ES...|\n",
      "|B00A4EYBR0|INFANTRY Mens Nig...|\n",
      "|B00MAMPGGE|G-Shock Men's Gre...|\n",
      "|B004LBPB7Q|Heiden Quad Watch...|\n",
      "|B00KGTVGKS|Fossil Women's ES...|\n",
      "|B0039UT5OU|Casio General Men...|\n",
      "|B00MPF0XJQ|2Tone Gold Silver...|\n",
      "|B003P1OHHS|Bulova Men's 98B1...|\n",
      "|B00R70YEOE|Casio - G-Shock -...|\n",
      "|B000FVE3BG|Invicta Men's 332...|\n",
      "|B008X6JB12|Seiko Women's SUT...|\n",
      "|B0040UOFPW|Anne Klein Women'...|\n",
      "|B00UR2R5UY|Guess U13630G1 Me...|\n",
      "|B00HFF57L0|Nixon Men's Geo V...|\n",
      "+----------+--------------------+\n",
      "only showing top 20 rows\n",
      "\n"
     ]
    }
   ],
   "source": [
    "# Create the \"products_df\" DataFrame that drops the duplicates in the \"product_id\" and \"product_title columns. \n",
    "products_df = watches_data_df.select([\"product_id\", \"product_title\"])\n",
    "products_df.show()"
   ]
  },
  {
   "cell_type": "markdown",
   "metadata": {
    "id": "LJHuZ9zut0e5"
   },
   "source": [
    "## Create the \"customers\" Table"
   ]
  },
  {
   "cell_type": "code",
   "execution_count": 16,
   "metadata": {
    "colab": {
     "base_uri": "https://localhost:8080/"
    },
    "executionInfo": {
     "elapsed": 5947,
     "status": "ok",
     "timestamp": 1678203968886,
     "user": {
      "displayName": "Ben Calderaio",
      "userId": "05610087940593491756"
     },
     "user_tz": 300
    },
    "id": "_pF2Vf3c2n2O",
    "outputId": "c7724147-9f52-439e-8a63-3d00f469ff0f"
   },
   "outputs": [
    {
     "name": "stdout",
     "output_type": "stream",
     "text": [
      "+-----------+--------------+\n",
      "|customer_id|customer_count|\n",
      "+-----------+--------------+\n",
      "|    1567510|             1|\n",
      "|   19502021|             1|\n",
      "|   12819130|             1|\n",
      "|   35329257|             2|\n",
      "|     108460|             1|\n",
      "|    5453476|             1|\n",
      "|   29913055|             1|\n",
      "|   30717305|             1|\n",
      "|    1570030|             1|\n",
      "|   19032020|             1|\n",
      "|   44178035|             1|\n",
      "|   26079415|             2|\n",
      "|   14230926|             1|\n",
      "|   43478048|             2|\n",
      "|   43694941|             1|\n",
      "|   12318815|             3|\n",
      "|   13731855|             1|\n",
      "|     740134|             1|\n",
      "|   41956754|             1|\n",
      "|   20324070|             3|\n",
      "+-----------+--------------+\n",
      "only showing top 20 rows\n",
      "\n"
     ]
    }
   ],
   "source": [
    "# Create the \"customers_df\" DataFrame that groups the data on the \"customer_id\" by the number of times a customer reviewed a product. \n",
    "customers_df = watches_data_df.groupby(\"customer_id\").count()\n",
    "customers_df = customers_df.withColumnRenamed('count','customer_count')\n",
    "customers_df.show()"
   ]
  },
  {
   "cell_type": "markdown",
   "metadata": {
    "id": "8SbTasxbuXGK"
   },
   "source": [
    "## Create the \"vine_table\"."
   ]
  },
  {
   "cell_type": "code",
   "execution_count": 17,
   "metadata": {
    "colab": {
     "base_uri": "https://localhost:8080/"
    },
    "executionInfo": {
     "elapsed": 376,
     "status": "ok",
     "timestamp": 1678204039280,
     "user": {
      "displayName": "Ben Calderaio",
      "userId": "05610087940593491756"
     },
     "user_tz": 300
    },
    "id": "WHQKbmCE2p3Q",
    "outputId": "e756657c-3c36-4fd8-e5e6-21f625c15455"
   },
   "outputs": [
    {
     "name": "stdout",
     "output_type": "stream",
     "text": [
      "+--------------+-----------+-------------+-----------+----+\n",
      "|     review_id|star_rating|helpful_votes|total_votes|vine|\n",
      "+--------------+-----------+-------------+-----------+----+\n",
      "|R3O9SGZBVQBV76|          5|            0|          0|   N|\n",
      "| RKH8BNC3L5DLF|          5|            0|          0|   N|\n",
      "|R2HLE8WKZSU3NL|          2|            1|          1|   N|\n",
      "|R31U3UH5AZ42LL|          5|            0|          0|   N|\n",
      "|R2SV659OUJ945Y|          4|            0|          0|   N|\n",
      "| RA51CP8TR5A2L|          5|            0|          0|   N|\n",
      "| RB2Q7DLDN6TH6|          5|            1|          1|   N|\n",
      "|R2RHFJV0UYBK3Y|          1|            1|          5|   N|\n",
      "|R2Z6JOQ94LFHEP|          5|            1|          2|   N|\n",
      "| RX27XIIWY5JPB|          4|            0|          0|   N|\n",
      "|R15C7QEZT0LGZN|          4|            2|          2|   N|\n",
      "|R361XSS37V0NCZ|          1|            0|          0|   N|\n",
      "| ROTNLALUAJAUB|          3|            0|          0|   N|\n",
      "|R2DYX7QU6BGOHR|          5|            0|          0|   N|\n",
      "| RWASY7FKI7QOT|          5|            2|          3|   N|\n",
      "|R2KKYZIN3CCL21|          5|            0|          0|   N|\n",
      "|R22H4FGVD5O52O|          4|            1|          1|   N|\n",
      "|R11UACZERCM4ZY|          5|            0|          0|   N|\n",
      "|R1AT8NQ38UQOL6|          5|            0|          0|   N|\n",
      "|R2NCZRQGIF1Q75|          4|            0|          0|   N|\n",
      "+--------------+-----------+-------------+-----------+----+\n",
      "only showing top 20 rows\n",
      "\n"
     ]
    }
   ],
   "source": [
    "# Create the \"vine_df\" DataFrame that has the \"review_id\", \"star_rating\", \"helpful_votes\", \"total_votes\", and \"vine\" columns. \n",
    "vine_df = watches_data_df.select([\"review_id\", \"star_rating\", \"helpful_votes\", \"total_votes\", \"vine\"])\n",
    "vine_df.show()"
   ]
  },
  {
   "cell_type": "markdown",
   "metadata": {
    "id": "I8aTsEjZ2s6L"
   },
   "source": [
    "# Load"
   ]
  },
  {
   "cell_type": "code",
   "execution_count": 18,
   "metadata": {
    "executionInfo": {
     "elapsed": 253,
     "status": "ok",
     "timestamp": 1678204139011,
     "user": {
      "displayName": "Ben Calderaio",
      "userId": "05610087940593491756"
     },
     "user_tz": 300
    },
    "id": "W4dzUKfI2vXM"
   },
   "outputs": [],
   "source": [
    "mode = \"append\"\n",
    "jdbc_url=\"jdbc:postgresql://<endpoint>:5432/my_data_class_db\"\n",
    "config = {\"user\":\"root\", \n",
    "          \"password\": \"<password>\", \n",
    "          \"driver\":\"org.postgresql.Driver\"}"
   ]
  },
  {
   "cell_type": "code",
   "execution_count": 20,
   "metadata": {
    "executionInfo": {
     "elapsed": 57339,
     "status": "ok",
     "timestamp": 1678204355999,
     "user": {
      "displayName": "Ben Calderaio",
      "userId": "05610087940593491756"
     },
     "user_tz": 300
    },
    "id": "iOxKqMsD2yVs"
   },
   "outputs": [],
   "source": [
    "# Write review_id_df to table in RDS\n",
    "review_id_df.write.jdbc(url=jdbc_url, table='review_id_table', mode=mode, properties=config)"
   ]
  },
  {
   "cell_type": "code",
   "execution_count": 22,
   "metadata": {
    "executionInfo": {
     "elapsed": 49222,
     "status": "ok",
     "timestamp": 1678204581555,
     "user": {
      "displayName": "Ben Calderaio",
      "userId": "05610087940593491756"
     },
     "user_tz": 300
    },
    "id": "pPXyGVE-2yPJ"
   },
   "outputs": [],
   "source": [
    "# Write products_df to table in RDS\n",
    "products_df.write.jdbc(url=jdbc_url, table='products', mode=mode, properties=config)"
   ]
  },
  {
   "cell_type": "code",
   "execution_count": 23,
   "metadata": {
    "executionInfo": {
     "elapsed": 42128,
     "status": "ok",
     "timestamp": 1678204746292,
     "user": {
      "displayName": "Ben Calderaio",
      "userId": "05610087940593491756"
     },
     "user_tz": 300
    },
    "id": "aHbca4zN2yIa"
   },
   "outputs": [],
   "source": [
    "# Write customers_df to table in RDS\n",
    "customers_df.write.jdbc(url=jdbc_url, table='customers', mode=mode, properties=config)"
   ]
  },
  {
   "cell_type": "code",
   "execution_count": 24,
   "metadata": {
    "executionInfo": {
     "elapsed": 57809,
     "status": "ok",
     "timestamp": 1678204815252,
     "user": {
      "displayName": "Ben Calderaio",
      "userId": "05610087940593491756"
     },
     "user_tz": 300
    },
    "id": "2HfOFneW2x_F"
   },
   "outputs": [],
   "source": [
    "# Write vine_df to table in RDS\n",
    "vine_df.write.jdbc(url=jdbc_url, table='vine_table', mode=mode, properties=config)"
   ]
  }
 ],
 "metadata": {
  "colab": {
   "provenance": []
  },
  "kernelspec": {
   "display_name": "Python 3 (ipykernel)",
   "language": "python",
   "name": "python3"
  },
  "language_info": {
   "codemirror_mode": {
    "name": "ipython",
    "version": 3
   },
   "file_extension": ".py",
   "mimetype": "text/x-python",
   "name": "python",
   "nbconvert_exporter": "python",
   "pygments_lexer": "ipython3",
   "version": "3.8.5"
  }
 },
 "nbformat": 4,
 "nbformat_minor": 1
}
