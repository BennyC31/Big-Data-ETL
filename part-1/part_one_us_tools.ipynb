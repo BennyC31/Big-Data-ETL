{
 "cells": [
  {
   "cell_type": "code",
   "execution_count": 1,
   "metadata": {
    "colab": {
     "base_uri": "https://localhost:8080/"
    },
    "executionInfo": {
     "elapsed": 28995,
     "status": "ok",
     "timestamp": 1678205505301,
     "user": {
      "displayName": "Ben Calderaio",
      "userId": "05610087940593491756"
     },
     "user_tz": 300
    },
    "id": "-8eFW_wl1n39",
    "outputId": "7967a281-7bea-4236-cead-6daaf13a0f74"
   },
   "outputs": [
    {
     "name": "stdout",
     "output_type": "stream",
     "text": [
      "\r",
      "0% [Working]\r",
      "            \r",
      "Hit:1 http://archive.ubuntu.com/ubuntu focal InRelease\n",
      "\r",
      "0% [Waiting for headers] [Connected to cloud.r-project.org (52.85.151.8)] [Conn\r",
      "                                                                               \r",
      "Get:2 http://archive.ubuntu.com/ubuntu focal-updates InRelease [114 kB]\n",
      "\r",
      "                                                                               \r",
      "Get:3 http://security.ubuntu.com/ubuntu focal-security InRelease [114 kB]\n",
      "\r",
      "                                                                               \r",
      "Get:4 https://cloud.r-project.org/bin/linux/ubuntu focal-cran40/ InRelease [3,622 B]\n",
      "\r",
      "0% [2 InRelease 114 kB/114 kB 100%] [Waiting for headers] [Waiting for headers]\r",
      "                                                                               \r",
      "0% [Waiting for headers] [Waiting for headers] [Waiting for headers]\r",
      "                                                                    \r",
      "Get:5 http://archive.ubuntu.com/ubuntu focal-backports InRelease [108 kB]\n",
      "\r",
      "0% [5 InRelease 22.9 kB/108 kB 21%] [Waiting for headers] [Waiting for headers]\r",
      "                                                                               \r",
      "0% [Waiting for headers] [Waiting for headers]\r",
      "                                              \r",
      "Get:6 http://ppa.launchpad.net/c2d4u.team/c2d4u4.0+/ubuntu focal InRelease [18.1 kB]\n",
      "\r",
      "0% [Waiting for headers] [6 InRelease 14.2 kB/18.1 kB 78%]\r",
      "                                                          \r",
      "Ign:7 https://developer.download.nvidia.com/compute/machine-learning/repos/ubuntu2004/x86_64  InRelease\n",
      "\r",
      "                                                          \r",
      "0% [6 InRelease 14.2 kB/18.1 kB 78%]\r",
      "                                    \r",
      "Hit:8 https://developer.download.nvidia.com/compute/cuda/repos/ubuntu2004/x86_64  InRelease\n",
      "Hit:9 https://developer.download.nvidia.com/compute/machine-learning/repos/ubuntu2004/x86_64  Release\n",
      "Hit:10 http://ppa.launchpad.net/cran/libgit2/ubuntu focal InRelease\n",
      "Get:11 http://security.ubuntu.com/ubuntu focal-security/universe amd64 Packages [1,011 kB]\n",
      "Hit:12 http://ppa.launchpad.net/deadsnakes/ppa/ubuntu focal InRelease\n",
      "Get:13 http://security.ubuntu.com/ubuntu focal-security/main amd64 Packages [2,536 kB]\n",
      "Hit:14 http://ppa.launchpad.net/graphics-drivers/ppa/ubuntu focal InRelease\n",
      "Hit:15 http://ppa.launchpad.net/ubuntugis/ppa/ubuntu focal InRelease\n",
      "Get:16 http://archive.ubuntu.com/ubuntu focal-updates/restricted amd64 Packages [2,134 kB]\n",
      "Get:17 http://archive.ubuntu.com/ubuntu focal-updates/universe amd64 Packages [1,309 kB]\n",
      "Get:18 http://archive.ubuntu.com/ubuntu focal-updates/main amd64 Packages [3,014 kB]\n",
      "Get:19 http://archive.ubuntu.com/ubuntu focal-updates/multiverse amd64 Packages [31.2 kB]\n",
      "Get:21 http://ppa.launchpad.net/c2d4u.team/c2d4u4.0+/ubuntu focal/main Sources [2,396 kB]\n",
      "Get:22 http://ppa.launchpad.net/c2d4u.team/c2d4u4.0+/ubuntu focal/main amd64 Packages [1,136 kB]\n",
      "Fetched 13.9 MB in 4s (3,572 kB/s)\n",
      "Reading package lists... Done\n"
     ]
    }
   ],
   "source": [
    "# Activate Spark in our Colab notebook.\n",
    "import os\n",
    "# Find the latest version of spark 3.2  from http://www.apache.org/dist/spark/ and enter as the spark version\n",
    "# For example:\n",
    "# spark_version = 'spark-3.2.2'\n",
    "spark_version = 'spark-3.2.3'\n",
    "os.environ['SPARK_VERSION']=spark_version\n",
    "\n",
    "# Install Spark and Java\n",
    "!apt-get update\n",
    "!apt-get install openjdk-11-jdk-headless -qq > /dev/null\n",
    "!wget -q http://www.apache.org/dist/spark/$SPARK_VERSION/$SPARK_VERSION-bin-hadoop2.7.tgz\n",
    "!tar xf $SPARK_VERSION-bin-hadoop2.7.tgz\n",
    "!pip install -q findspark\n",
    "\n",
    "# Set Environment Variables\n",
    "import os\n",
    "os.environ[\"JAVA_HOME\"] = \"/usr/lib/jvm/java-11-openjdk-amd64\"\n",
    "os.environ[\"SPARK_HOME\"] = f\"/content/{spark_version}-bin-hadoop2.7\"\n",
    "\n",
    "# Start a SparkSession\n",
    "import findspark\n",
    "findspark.init()"
   ]
  },
  {
   "cell_type": "code",
   "execution_count": 2,
   "metadata": {
    "colab": {
     "base_uri": "https://localhost:8080/"
    },
    "executionInfo": {
     "elapsed": 1275,
     "status": "ok",
     "timestamp": 1678205508387,
     "user": {
      "displayName": "Ben Calderaio",
      "userId": "05610087940593491756"
     },
     "user_tz": 300
    },
    "id": "BzCrgs0Z1rnw",
    "outputId": "3710513e-2d79-4c2c-b692-a4e776f28d2c"
   },
   "outputs": [
    {
     "name": "stdout",
     "output_type": "stream",
     "text": [
      "--2023-03-07 16:11:47--  https://jdbc.postgresql.org/download/postgresql-42.2.9.jar\n",
      "Resolving jdbc.postgresql.org (jdbc.postgresql.org)... 72.32.157.228, 2001:4800:3e1:1::228\n",
      "Connecting to jdbc.postgresql.org (jdbc.postgresql.org)|72.32.157.228|:443... connected.\n",
      "HTTP request sent, awaiting response... 200 OK\n",
      "Length: 914037 (893K) [application/java-archive]\n",
      "Saving to: ‘postgresql-42.2.9.jar’\n",
      "\n",
      "postgresql-42.2.9.j 100%[===================>] 892.61K  4.07MB/s    in 0.2s    \n",
      "\n",
      "2023-03-07 16:11:47 (4.07 MB/s) - ‘postgresql-42.2.9.jar’ saved [914037/914037]\n",
      "\n"
     ]
    }
   ],
   "source": [
    "# Get postgresql package\n",
    "!wget https://jdbc.postgresql.org/download/postgresql-42.2.9.jar"
   ]
  },
  {
   "cell_type": "code",
   "execution_count": 3,
   "metadata": {
    "executionInfo": {
     "elapsed": 9544,
     "status": "ok",
     "timestamp": 1678205528887,
     "user": {
      "displayName": "Ben Calderaio",
      "userId": "05610087940593491756"
     },
     "user_tz": 300
    },
    "id": "0DuBth0V2PR8"
   },
   "outputs": [],
   "source": [
    "# Import Spark and create a SparkSession\n",
    "from pyspark.sql import SparkSession\n",
    "spark = SparkSession.builder.appName(\"BigData-HW-1\").config(\"spark.driver.extraClassPath\",\"/content/postgresql-42.2.9.jar\").getOrCreate()"
   ]
  },
  {
   "cell_type": "markdown",
   "metadata": {
    "id": "D3W2XJVi2CU-"
   },
   "source": [
    "# Extract the Amazon Data into Spark DataFrame"
   ]
  },
  {
   "cell_type": "code",
   "execution_count": 4,
   "metadata": {
    "colab": {
     "base_uri": "https://localhost:8080/"
    },
    "executionInfo": {
     "elapsed": 41422,
     "status": "ok",
     "timestamp": 1678205628637,
     "user": {
      "displayName": "Ben Calderaio",
      "userId": "05610087940593491756"
     },
     "user_tz": 300
    },
    "id": "Na_stw7b1wfU",
    "outputId": "03464d7e-be0c-452b-d8a9-a1453eda4dbe"
   },
   "outputs": [
    {
     "name": "stdout",
     "output_type": "stream",
     "text": [
      "+-----------+-----------+--------------+----------+--------------+--------------------+----------------+-----------+-------------+-----------+----+-----------------+--------------------+--------------------+-----------+\n",
      "|marketplace|customer_id|     review_id|product_id|product_parent|       product_title|product_category|star_rating|helpful_votes|total_votes|vine|verified_purchase|     review_headline|         review_body|review_date|\n",
      "+-----------+-----------+--------------+----------+--------------+--------------------+----------------+-----------+-------------+-----------+----+-----------------+--------------------+--------------------+-----------+\n",
      "|         US|   15785389|R2UM5QMHBHC90Q|B00H5U9ZD6|     115362950|WallPeg 12 sq ft ...|           Tools|          5|            0|          0|   N|                Y|Great organizer, ...|Very nice. Will o...| 2015-08-31|\n",
      "|         US|   47910848|  RF0D1LEIF6L7|B001TJGCS0|     570955425|Nite Ize Nite Daw...|           Tools|          4|            0|          0|   N|                Y|Like it, but the ...|Like it, but the ...| 2015-08-31|\n",
      "|         US|   36328996|  RM6YKIWQVNSY|B000NIK8JW|     128843593|Stanley 84-058 4 ...|           Tools|          1|            6|          6|   N|                Y|        poor quality|We were excited t...| 2015-08-31|\n",
      "|         US|   51785809|R1RL3L68ASPS36|B008ZYRGUA|     407828107|Powerextra 14.4V ...|           Tools|          4|            0|          0|   N|                Y|          Four Stars|Quick delivery. P...| 2015-08-31|\n",
      "|         US|   40757491|R1U4XFBFAG34CY|B00K5CA0GC|     490746675|Waterproof Invisi...|           Tools|          5|            0|          0|   N|                Y|          Five Stars|Quality waterproo...| 2015-08-31|\n",
      "|         US|   35544833|R3KFIK8P0I91PL|B00AIJAA94|     148352067|Crime Scene Do No...|           Tools|          5|            0|          0|   N|                Y|Excellent Decorat...|Ordered for my hu...| 2015-08-31|\n",
      "|         US|   16474909| RENOAY76PPK1O|B00JKEI6K8|     331801084|Aweek® 2 Pcs Bicy...|           Tools|          5|            0|          0|   N|                Y|          Five Stars|GREAT SELLER PROD...| 2015-08-31|\n",
      "|         US|   22601598| RINV884I0NL5V|B00AGCHVS6|     471514859|Ryobi P102 Genuin...|           Tools|          1|            0|          0|   N|                Y|Worked great for ...|My battery has di...| 2015-08-31|\n",
      "|         US|   16129808| R5KJH6CXZH2PX|B002S0O7U4|     162253576|Wiha 66995 6-Piec...|           Tools|          5|            0|          0|   N|                Y|       Great quality|Great product at ...| 2015-08-31|\n",
      "|         US|   24382335| RO69JF6QWD0W1|B0084YHXMW|      69530650|TOMTOP LED Submar...|           Tools|          5|            0|          0|   N|                Y|          Five Stars|           Excellent| 2015-08-31|\n",
      "|         US|   49796324|R3L9NQBH3FI55C|B00MLSS1SW|     916693555|Black & Decker BD...|           Tools|          4|            1|          1|   N|                Y|Really worked great!|This little sande...| 2015-08-31|\n",
      "|         US|   33289687| R4YH95YPHVU0C|B00D4WLS2A|      39333316|Crain 126 Staple ...|           Tools|          5|            0|          0|   N|                Y|         LOVE IT!!!!|This is the most ...| 2015-08-31|\n",
      "|         US|   10916386|R10M1WWDDQBGG2|B00JGCDV5Y|     550596607|Diamond Semi Roun...|           Tools|          2|            0|          0|   N|                Y|I needed to cut s...|I needed to cut s...| 2015-08-31|\n",
      "|         US|   34071500| RV3KWQBTNIO62|B00N0PS3YM|     735538025|It Mall 9 LED 375...|           Tools|          5|            1|          1|   N|                Y|   Works pretty well|Lights up small d...| 2015-08-31|\n",
      "|         US|   50594486|R1M7YUNLZI0G9F|B0000DD4KV|     506501960|IRWIN Tools Metri...|           Tools|          5|            1|          1|   N|                Y|          Five Stars|Great product for...| 2015-08-31|\n",
      "|         US|   21945887|R2MTL2D4E4HEF4|B0009H5FB8|     268586246|743022-A Backing ...|           Tools|          5|            0|          0|   N|                Y|          Five Stars|Many thanks for t...| 2015-08-31|\n",
      "|         US|   47749608| RXAHWIC1584UQ|B00NKSMPZW|     824618679|ClearArmor 141001...|           Tools|          5|           20|         23|   N|                Y|          Five Stars|geart product :) ...| 2015-08-31|\n",
      "|         US|   48880662| RMOIQFERVQDWS|B00RBAB92K|     156791442|KKmoon 9cm Mini A...|           Tools|          5|            0|          0|   N|                Y|          Five Stars|           very good| 2015-08-31|\n",
      "|         US|    4660265| R710G45MKODY9|B00QGBNZVI|     962324810|Refun E6 High Pow...|           Tools|          2|            1|          1|   N|                Y|           Two Stars|Scratches on lenses.| 2015-08-31|\n",
      "|         US|   18397238|R23ZIUGUM7TBMY|B00XXU3CDG|     543062309|Dr.meter S20 Mois...|           Tools|          1|            0|          1|   N|                Y|Don't waste your ...|It's a piece of $...| 2015-08-31|\n",
      "+-----------+-----------+--------------+----------+--------------+--------------------+----------------+-----------+-------------+-----------+----+-----------------+--------------------+--------------------+-----------+\n",
      "only showing top 20 rows\n",
      "\n"
     ]
    }
   ],
   "source": [
    "# Read in the data from an S3 Bucket\n",
    "from pyspark import SparkFiles\n",
    "url=\"https://my-pg-db.s3.amazonaws.com/amazon_reviews_us_Tools_v1_00.tsv\" \n",
    "#url = \"https://2u-data-curriculum-team.s3.amazonaws.com/dataviz-classroom/v1.1/22-big-data/day_3/user_data.csv\"\n",
    "spark.sparkContext.addFile(url)\n",
    "tools_data_df = spark.read.csv(SparkFiles.get(\"amazon_reviews_us_Tools_v1_00.tsv\"), sep=\"\\t\", header=True, inferSchema=True)\n",
    "\n",
    "# Show DataFrame\n",
    "tools_data_df.show()"
   ]
  },
  {
   "cell_type": "code",
   "execution_count": 5,
   "metadata": {
    "colab": {
     "base_uri": "https://localhost:8080/"
    },
    "executionInfo": {
     "elapsed": 4871,
     "status": "ok",
     "timestamp": 1678205637474,
     "user": {
      "displayName": "Ben Calderaio",
      "userId": "05610087940593491756"
     },
     "user_tz": 300
    },
    "id": "Cayz-3Q52IM3",
    "outputId": "d9b1a793-adc7-46fa-ab0d-ebc8db24e829"
   },
   "outputs": [
    {
     "data": {
      "text/plain": [
       "1741100"
      ]
     },
     "execution_count": 5,
     "metadata": {},
     "output_type": "execute_result"
    }
   ],
   "source": [
    "# Get the number of rows in the DataFrame.\n",
    "tools_data_df.count()"
   ]
  },
  {
   "cell_type": "markdown",
   "metadata": {
    "id": "C9U0rkGZ2eu7"
   },
   "source": [
    "# Transform the Data"
   ]
  },
  {
   "cell_type": "markdown",
   "metadata": {
    "id": "dUoftWoKtM_c"
   },
   "source": [
    "## Create the \"review_id_table\"."
   ]
  },
  {
   "cell_type": "code",
   "execution_count": 6,
   "metadata": {
    "colab": {
     "base_uri": "https://localhost:8080/"
    },
    "executionInfo": {
     "elapsed": 1107,
     "status": "ok",
     "timestamp": 1678205649233,
     "user": {
      "displayName": "Ben Calderaio",
      "userId": "05610087940593491756"
     },
     "user_tz": 300
    },
    "id": "2tMYkSIk2d-m",
    "outputId": "7548de51-5948-4ddd-c015-3712f59ce0d3"
   },
   "outputs": [
    {
     "name": "stdout",
     "output_type": "stream",
     "text": [
      "+--------------+-----------+--------------+-----------+\n",
      "|     review_id|customer_id|product_parent|review_date|\n",
      "+--------------+-----------+--------------+-----------+\n",
      "|R2UM5QMHBHC90Q|   15785389|     115362950| 2015-08-31|\n",
      "|  RF0D1LEIF6L7|   47910848|     570955425| 2015-08-31|\n",
      "|  RM6YKIWQVNSY|   36328996|     128843593| 2015-08-31|\n",
      "|R1RL3L68ASPS36|   51785809|     407828107| 2015-08-31|\n",
      "|R1U4XFBFAG34CY|   40757491|     490746675| 2015-08-31|\n",
      "|R3KFIK8P0I91PL|   35544833|     148352067| 2015-08-31|\n",
      "| RENOAY76PPK1O|   16474909|     331801084| 2015-08-31|\n",
      "| RINV884I0NL5V|   22601598|     471514859| 2015-08-31|\n",
      "| R5KJH6CXZH2PX|   16129808|     162253576| 2015-08-31|\n",
      "| RO69JF6QWD0W1|   24382335|      69530650| 2015-08-31|\n",
      "|R3L9NQBH3FI55C|   49796324|     916693555| 2015-08-31|\n",
      "| R4YH95YPHVU0C|   33289687|      39333316| 2015-08-31|\n",
      "|R10M1WWDDQBGG2|   10916386|     550596607| 2015-08-31|\n",
      "| RV3KWQBTNIO62|   34071500|     735538025| 2015-08-31|\n",
      "|R1M7YUNLZI0G9F|   50594486|     506501960| 2015-08-31|\n",
      "|R2MTL2D4E4HEF4|   21945887|     268586246| 2015-08-31|\n",
      "| RXAHWIC1584UQ|   47749608|     824618679| 2015-08-31|\n",
      "| RMOIQFERVQDWS|   48880662|     156791442| 2015-08-31|\n",
      "| R710G45MKODY9|    4660265|     962324810| 2015-08-31|\n",
      "|R23ZIUGUM7TBMY|   18397238|     543062309| 2015-08-31|\n",
      "+--------------+-----------+--------------+-----------+\n",
      "only showing top 20 rows\n",
      "\n"
     ]
    }
   ],
   "source": [
    "from pyspark.sql.functions import to_date\n",
    "# Create the \"review_id_df\" DataFrame with the appropriate columns and data types.\n",
    "review_id_df = tools_data_df.select([\"review_id\", \"customer_id\", \"product_parent\", \"review_date\"])\n",
    "review_id_df.show()"
   ]
  },
  {
   "cell_type": "markdown",
   "metadata": {
    "id": "aAVCFjXhtXO8"
   },
   "source": [
    "## Create the \"products\" Table"
   ]
  },
  {
   "cell_type": "code",
   "execution_count": 7,
   "metadata": {
    "colab": {
     "base_uri": "https://localhost:8080/"
    },
    "executionInfo": {
     "elapsed": 556,
     "status": "ok",
     "timestamp": 1678205659913,
     "user": {
      "displayName": "Ben Calderaio",
      "userId": "05610087940593491756"
     },
     "user_tz": 300
    },
    "id": "g9gTNhT62je4",
    "outputId": "0626c0b0-00bf-4545-b630-0b80303fde47"
   },
   "outputs": [
    {
     "name": "stdout",
     "output_type": "stream",
     "text": [
      "+----------+--------------------+\n",
      "|product_id|       product_title|\n",
      "+----------+--------------------+\n",
      "|B00H5U9ZD6|WallPeg 12 sq ft ...|\n",
      "|B001TJGCS0|Nite Ize Nite Daw...|\n",
      "|B000NIK8JW|Stanley 84-058 4 ...|\n",
      "|B008ZYRGUA|Powerextra 14.4V ...|\n",
      "|B00K5CA0GC|Waterproof Invisi...|\n",
      "|B00AIJAA94|Crime Scene Do No...|\n",
      "|B00JKEI6K8|Aweek® 2 Pcs Bicy...|\n",
      "|B00AGCHVS6|Ryobi P102 Genuin...|\n",
      "|B002S0O7U4|Wiha 66995 6-Piec...|\n",
      "|B0084YHXMW|TOMTOP LED Submar...|\n",
      "|B00MLSS1SW|Black & Decker BD...|\n",
      "|B00D4WLS2A|Crain 126 Staple ...|\n",
      "|B00JGCDV5Y|Diamond Semi Roun...|\n",
      "|B00N0PS3YM|It Mall 9 LED 375...|\n",
      "|B0000DD4KV|IRWIN Tools Metri...|\n",
      "|B0009H5FB8|743022-A Backing ...|\n",
      "|B00NKSMPZW|ClearArmor 141001...|\n",
      "|B00RBAB92K|KKmoon 9cm Mini A...|\n",
      "|B00QGBNZVI|Refun E6 High Pow...|\n",
      "|B00XXU3CDG|Dr.meter S20 Mois...|\n",
      "+----------+--------------------+\n",
      "only showing top 20 rows\n",
      "\n"
     ]
    }
   ],
   "source": [
    "# Create the \"products_df\" DataFrame that drops the duplicates in the \"product_id\" and \"product_title columns. \n",
    "products_df = tools_data_df.select([\"product_id\", \"product_title\"])\n",
    "products_df.show()"
   ]
  },
  {
   "cell_type": "markdown",
   "metadata": {
    "id": "LJHuZ9zut0e5"
   },
   "source": [
    "## Create the \"customers\" Table"
   ]
  },
  {
   "cell_type": "code",
   "execution_count": 8,
   "metadata": {
    "colab": {
     "base_uri": "https://localhost:8080/"
    },
    "executionInfo": {
     "elapsed": 11637,
     "status": "ok",
     "timestamp": 1678205680991,
     "user": {
      "displayName": "Ben Calderaio",
      "userId": "05610087940593491756"
     },
     "user_tz": 300
    },
    "id": "_pF2Vf3c2n2O",
    "outputId": "6fa004c1-b1d3-45d1-bac7-551d13445d1c"
   },
   "outputs": [
    {
     "name": "stdout",
     "output_type": "stream",
     "text": [
      "+-----------+--------------+\n",
      "|customer_id|customer_count|\n",
      "+-----------+--------------+\n",
      "|   45978717|             2|\n",
      "|   43622307|             1|\n",
      "|     740678|             4|\n",
      "|   29045703|             1|\n",
      "|   52484548|             3|\n",
      "|   42560427|             4|\n",
      "|   17067926|             1|\n",
      "|   10093406|             1|\n",
      "|   44979559|             1|\n",
      "|   19432125|             1|\n",
      "|   26079415|             1|\n",
      "|   29931671|             1|\n",
      "|   12945150|             3|\n",
      "|   12036434|             1|\n",
      "|   14230926|             1|\n",
      "|   45015535|             1|\n",
      "|   39064792|             1|\n",
      "|   20709090|             1|\n",
      "|   45074906|             1|\n",
      "|   26767269|             2|\n",
      "+-----------+--------------+\n",
      "only showing top 20 rows\n",
      "\n"
     ]
    }
   ],
   "source": [
    "# Create the \"customers_df\" DataFrame that groups the data on the \"customer_id\" by the number of times a customer reviewed a product. \n",
    "customers_df = tools_data_df.groupby(\"customer_id\").count()\n",
    "customers_df = customers_df.withColumnRenamed('count','customer_count')\n",
    "customers_df.show()"
   ]
  },
  {
   "cell_type": "markdown",
   "metadata": {
    "id": "8SbTasxbuXGK"
   },
   "source": [
    "## Create the \"vine_table\"."
   ]
  },
  {
   "cell_type": "code",
   "execution_count": 9,
   "metadata": {
    "colab": {
     "base_uri": "https://localhost:8080/"
    },
    "executionInfo": {
     "elapsed": 1160,
     "status": "ok",
     "timestamp": 1678205689368,
     "user": {
      "displayName": "Ben Calderaio",
      "userId": "05610087940593491756"
     },
     "user_tz": 300
    },
    "id": "WHQKbmCE2p3Q",
    "outputId": "4723431e-0bd5-4b2b-d3ff-00868a7ed47a"
   },
   "outputs": [
    {
     "name": "stdout",
     "output_type": "stream",
     "text": [
      "+--------------+-----------+-------------+-----------+----+\n",
      "|     review_id|star_rating|helpful_votes|total_votes|vine|\n",
      "+--------------+-----------+-------------+-----------+----+\n",
      "|R2UM5QMHBHC90Q|          5|            0|          0|   N|\n",
      "|  RF0D1LEIF6L7|          4|            0|          0|   N|\n",
      "|  RM6YKIWQVNSY|          1|            6|          6|   N|\n",
      "|R1RL3L68ASPS36|          4|            0|          0|   N|\n",
      "|R1U4XFBFAG34CY|          5|            0|          0|   N|\n",
      "|R3KFIK8P0I91PL|          5|            0|          0|   N|\n",
      "| RENOAY76PPK1O|          5|            0|          0|   N|\n",
      "| RINV884I0NL5V|          1|            0|          0|   N|\n",
      "| R5KJH6CXZH2PX|          5|            0|          0|   N|\n",
      "| RO69JF6QWD0W1|          5|            0|          0|   N|\n",
      "|R3L9NQBH3FI55C|          4|            1|          1|   N|\n",
      "| R4YH95YPHVU0C|          5|            0|          0|   N|\n",
      "|R10M1WWDDQBGG2|          2|            0|          0|   N|\n",
      "| RV3KWQBTNIO62|          5|            1|          1|   N|\n",
      "|R1M7YUNLZI0G9F|          5|            1|          1|   N|\n",
      "|R2MTL2D4E4HEF4|          5|            0|          0|   N|\n",
      "| RXAHWIC1584UQ|          5|           20|         23|   N|\n",
      "| RMOIQFERVQDWS|          5|            0|          0|   N|\n",
      "| R710G45MKODY9|          2|            1|          1|   N|\n",
      "|R23ZIUGUM7TBMY|          1|            0|          1|   N|\n",
      "+--------------+-----------+-------------+-----------+----+\n",
      "only showing top 20 rows\n",
      "\n"
     ]
    }
   ],
   "source": [
    "# Create the \"vine_df\" DataFrame that has the \"review_id\", \"star_rating\", \"helpful_votes\", \"total_votes\", and \"vine\" columns. \n",
    "vine_df = tools_data_df.select([\"review_id\", \"star_rating\", \"helpful_votes\", \"total_votes\", \"vine\"])\n",
    "vine_df.show()"
   ]
  },
  {
   "cell_type": "markdown",
   "metadata": {
    "id": "I8aTsEjZ2s6L"
   },
   "source": [
    "# Load"
   ]
  },
  {
   "cell_type": "code",
   "execution_count": 10,
   "metadata": {
    "executionInfo": {
     "elapsed": 528,
     "status": "ok",
     "timestamp": 1678205699961,
     "user": {
      "displayName": "Ben Calderaio",
      "userId": "05610087940593491756"
     },
     "user_tz": 300
    },
    "id": "W4dzUKfI2vXM"
   },
   "outputs": [],
   "source": [
    "mode = \"append\"\n",
    "jdbc_url=\"jdbc:postgresql://<endpoint>:5432/my_data_class_db\"\n",
    "config = {\"user\":\"root\", \n",
    "          \"password\": \"<password>\", \n",
    "          \"driver\":\"org.postgresql.Driver\"}"
   ]
  },
  {
   "cell_type": "code",
   "execution_count": 11,
   "metadata": {
    "executionInfo": {
     "elapsed": 41278,
     "status": "ok",
     "timestamp": 1678205744619,
     "user": {
      "displayName": "Ben Calderaio",
      "userId": "05610087940593491756"
     },
     "user_tz": 300
    },
    "id": "iOxKqMsD2yVs"
   },
   "outputs": [],
   "source": [
    "# Write review_id_df to table in RDS\n",
    "review_id_df.write.jdbc(url=jdbc_url, table='review_id_table', mode=mode, properties=config)"
   ]
  },
  {
   "cell_type": "code",
   "execution_count": 12,
   "metadata": {
    "executionInfo": {
     "elapsed": 24141,
     "status": "ok",
     "timestamp": 1678205774014,
     "user": {
      "displayName": "Ben Calderaio",
      "userId": "05610087940593491756"
     },
     "user_tz": 300
    },
    "id": "pPXyGVE-2yPJ"
   },
   "outputs": [],
   "source": [
    "# Write products_df to table in RDS\n",
    "products_df.write.jdbc(url=jdbc_url, table='products', mode=mode, properties=config)"
   ]
  },
  {
   "cell_type": "code",
   "execution_count": 14,
   "metadata": {
    "executionInfo": {
     "elapsed": 20676,
     "status": "ok",
     "timestamp": 1678205858369,
     "user": {
      "displayName": "Ben Calderaio",
      "userId": "05610087940593491756"
     },
     "user_tz": 300
    },
    "id": "aHbca4zN2yIa"
   },
   "outputs": [],
   "source": [
    "# Write customers_df to table in RDS\n",
    "customers_df.write.jdbc(url=jdbc_url, table='customers', mode=mode, properties=config)"
   ]
  },
  {
   "cell_type": "code",
   "execution_count": 16,
   "metadata": {
    "executionInfo": {
     "elapsed": 45393,
     "status": "ok",
     "timestamp": 1678206042294,
     "user": {
      "displayName": "Ben Calderaio",
      "userId": "05610087940593491756"
     },
     "user_tz": 300
    },
    "id": "2HfOFneW2x_F"
   },
   "outputs": [],
   "source": [
    "# Write vine_df to table in RDS\n",
    "vine_df.write.jdbc(url=jdbc_url, table='vine_table', mode=mode, properties=config)"
   ]
  }
 ],
 "metadata": {
  "colab": {
   "provenance": []
  },
  "kernelspec": {
   "display_name": "Python 3 (ipykernel)",
   "language": "python",
   "name": "python3"
  },
  "language_info": {
   "codemirror_mode": {
    "name": "ipython",
    "version": 3
   },
   "file_extension": ".py",
   "mimetype": "text/x-python",
   "name": "python",
   "nbconvert_exporter": "python",
   "pygments_lexer": "ipython3",
   "version": "3.8.5"
  }
 },
 "nbformat": 4,
 "nbformat_minor": 1
}
